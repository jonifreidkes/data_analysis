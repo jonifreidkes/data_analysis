{
 "cells": [
  {
   "cell_type": "markdown",
   "metadata": {
    "collapsed": true
   },
   "source": [
    "# Exploring Hacker News posts\n",
    "\n",
    "## Introduction\n",
    "In this project, we'll work with a data set of submissions to popular technology site [Hacker News](https://news.ycombinator.com/). It is a site started by the startup incubator [Y Combinator](https://www.ycombinator.com/), where user-submitted stories (known as \"posts\") are voted and commented upon, similar to reddit. Hacker News is extremely popular in technology and startup circles, and posts that make it to the top of Hacker News' listings can get hundreds of thousands of visitors as a result.\n",
    "\n",
    "\n",
    "## Data set\n",
    "The data set used is [available](https://www.kaggle.com/hacker-news/hacker-news-posts), and it has been reduced to approximately 20 k rows by removing all submissions that did not receive any comments, and then randomly sampling from the remaining submissions.\n",
    "\n",
    "The columns are:\n",
    "\n",
    "|  Column name |                Description                |\n",
    "|:------------:|:-----------------------------------------:|\n",
    "|      id      | Post's unique identifier from Hacker News |\n",
    "|     title    |             Title of the post             |\n",
    "|      url     |      The URL that the posts links to      |\n",
    "|  num_points  |   The number of points the post acquired  |\n",
    "| num_comments |       Number of comments on the post      |\n",
    "|    author    |     Username of who submitted the post    |\n",
    "|  created_at  |   Date and time of the post's submission  |\n",
    "\n",
    "\n",
    "\n",
    "\n",
    "We're specifically interested in posts whose titles begin with either _Ask HN_ or _Show HN_. Users submit those posts to ask the Hacker News community a specific question.\n",
    "\n",
    "\n",
    "We'll compare these two types of posts to determine the following:\n",
    "\n",
    "- Do _Ask HN_ or _Show HN_ receive more comments on average?\n",
    "- Do posts created at a certain time receive more comments on average?\n",
    "\n",
    "We can see some rows of the data set below."
   ]
  },
  {
   "cell_type": "code",
   "execution_count": 2,
   "metadata": {
    "collapsed": false,
    "scrolled": true
   },
   "outputs": [
    {
     "name": "stdout",
     "output_type": "stream",
     "text": [
      "['12224879', 'Interactive Dynamic Video', 'http://www.interactivedynamicvideo.com/', '386', '52', 'ne0phyte', '8/4/2016 11:52']\n",
      "\n",
      "\n",
      "['10975351', 'How to Use Open Source and Shut the Fuck Up at the Same Time', 'http://hueniverse.com/2016/01/26/how-to-use-open-source-and-shut-the-fuck-up-at-the-same-time/', '39', '10', 'josep2', '1/26/2016 19:30']\n",
      "\n",
      "\n",
      "['11964716', \"Florida DJs May Face Felony for April Fools' Water Joke\", 'http://www.thewire.com/entertainment/2013/04/florida-djs-april-fools-water-joke/63798/', '2', '1', 'vezycash', '6/23/2016 22:20']\n",
      "\n",
      "\n",
      "['11919867', 'Technology ventures: From Idea to Enterprise', 'https://www.amazon.com/Technology-Ventures-Enterprise-Thomas-Byers/dp/0073523429', '3', '1', 'hswarna', '6/17/2016 0:01']\n",
      "\n",
      "\n",
      "['10301696', 'Note by Note: The Making of Steinway L1037 (2007)', 'http://www.nytimes.com/2007/11/07/movies/07stein.html?_r=0', '8', '2', 'walterbell', '9/30/2015 4:12']\n"
     ]
    }
   ],
   "source": [
    "from csv import reader\n",
    "\n",
    "file = open('hacker_news.csv')\n",
    "read_file = reader(file)\n",
    "hn = list(read_file)\n",
    "headers = hn[0]\n",
    "hn = hn[1:]\n",
    "print(hn[0])\n",
    "print('\\n')\n",
    "print(hn[1])\n",
    "print('\\n')\n",
    "print(hn[2])\n",
    "print('\\n')\n",
    "print(hn[3])\n",
    "print('\\n')\n",
    "print(hn[4])"
   ]
  },
  {
   "cell_type": "markdown",
   "metadata": {},
   "source": [
    "And then we can observe the headers:"
   ]
  },
  {
   "cell_type": "code",
   "execution_count": 3,
   "metadata": {
    "collapsed": false
   },
   "outputs": [
    {
     "name": "stdout",
     "output_type": "stream",
     "text": [
      "['id', 'title', 'url', 'num_points', 'num_comments', 'author', 'created_at']\n"
     ]
    }
   ],
   "source": [
    "print(headers)"
   ]
  },
  {
   "cell_type": "markdown",
   "metadata": {},
   "source": [
    "## Extracting Ask HN and Show HN Posts\n",
    "\n",
    "Now we will filter the data set into 3 lists:\n",
    "- ask_posts: Contains _Ask HN_ posts\n",
    "- show_posts: Contains _Show HN_ posts\n",
    "- other_posts: Contains the remaining posts"
   ]
  },
  {
   "cell_type": "code",
   "execution_count": 4,
   "metadata": {
    "collapsed": false,
    "scrolled": true
   },
   "outputs": [
    {
     "name": "stdout",
     "output_type": "stream",
     "text": [
      "Total of Ask HN posts: 1744\n",
      "Total of Show HN posts: 1162\n",
      "Total of other posts: 17194\n"
     ]
    }
   ],
   "source": [
    "ask_posts = []\n",
    "show_posts = []\n",
    "other_posts = []\n",
    "for post in hn:\n",
    "    tit = post[1]\n",
    "    title = tit.lower() #To avoid capitalization problems\n",
    "    if title.startswith('ask hn'):\n",
    "        ask_posts.append(post)\n",
    "    elif title.startswith('show hn'):\n",
    "        show_posts.append(post)\n",
    "    else:\n",
    "        other_posts.append(post)\n",
    "print('Total of Ask HN posts: ' + str(len(ask_posts)))\n",
    "print('Total of Show HN posts: ' + str(len(show_posts)))\n",
    "print('Total of other posts: ' + str(len(other_posts)))"
   ]
  },
  {
   "cell_type": "markdown",
   "metadata": {},
   "source": [
    "Now we can calculate the total of comments for each list."
   ]
  },
  {
   "cell_type": "code",
   "execution_count": 5,
   "metadata": {
    "collapsed": false
   },
   "outputs": [
    {
     "name": "stdout",
     "output_type": "stream",
     "text": [
      "Average comments for Ask HN posts is: 14\n",
      "Average comments for Show HN posts is: 10\n",
      "Average comments for other posts is: 27\n"
     ]
    }
   ],
   "source": [
    "total_ask_comments = 0\n",
    "for post in ask_posts:\n",
    "    num_comments = int(post[4])\n",
    "    total_ask_comments += num_comments\n",
    "avg_ask_comments = round(total_ask_comments / len(ask_posts))\n",
    "\n",
    "total_show_comments = 0\n",
    "for post in show_posts:\n",
    "    num_comments = int(post[4])\n",
    "    total_show_comments += num_comments\n",
    "avg_show_comments = round(total_show_comments / len(show_posts))\n",
    "\n",
    "total_other_comments = 0\n",
    "for post in other_posts:\n",
    "    num_comments = int(post[4])\n",
    "    total_other_comments += num_comments\n",
    "avg_other_comments = round(total_other_comments / len(other_posts))\n",
    "\n",
    "string = 'Average comments for {list} posts is: {num}'\n",
    "print(string.format(list=\"Ask HN\", num=avg_ask_comments))\n",
    "print(string.format(list=\"Show HN\", num=avg_show_comments))\n",
    "print(string.format(list=\"other\", num=avg_other_comments))"
   ]
  },
  {
   "cell_type": "markdown",
   "metadata": {},
   "source": [
    "As we can see above, _Ask HN_ posts receive more comments than _Show HN_.\n",
    "\n",
    "Since ask posts are more likely to receive comments, we'll focus our remaining analysis just on these posts.\n",
    "\n",
    "Next, we'll determine if ask posts created at a certain time are more likely to attract comments. We'll use the following steps to perform this analysis:\n",
    "\n",
    "- Calculate the amount of ask posts created in each hour of the day, along with the number of comments received.\n",
    "- Calculate the average number of comments ask posts receive by hour created.\n",
    "\n",
    "We will start at the first step:"
   ]
  },
  {
   "cell_type": "code",
   "execution_count": 6,
   "metadata": {
    "collapsed": false
   },
   "outputs": [],
   "source": [
    "import datetime as dt\n",
    "\n",
    "result_list = []\n",
    "\n",
    "for post in ask_posts:\n",
    "    created_at = post[6]\n",
    "    num_comments = int(post[4])\n",
    "    result_list.append([created_at, num_comments])\n",
    "\n",
    "counts_by_hour = {}\n",
    "comments_by_hour = {}\n",
    "\n",
    "for i in result_list:\n",
    "    hour = i[0]\n",
    "    comment = i[1]\n",
    "    hour = dt.datetime.strptime(hour, \"%m/%d/%Y %H:%M\")\n",
    "    hour = dt.datetime.strftime(hour, \"%H\")\n",
    "    if hour not in counts_by_hour:\n",
    "        counts_by_hour[hour] = 1\n",
    "        comments_by_hour[hour] = comment\n",
    "    if hour in counts_by_hour:\n",
    "        counts_by_hour[hour] += 1\n",
    "        comments_by_hour[hour] += comment"
   ]
  },
  {
   "cell_type": "markdown",
   "metadata": {},
   "source": [
    "We'll use both dictionaries created above, to calculate the average number of comments for posts created during each hour of the day."
   ]
  },
  {
   "cell_type": "code",
   "execution_count": 7,
   "metadata": {
    "collapsed": false,
    "scrolled": false
   },
   "outputs": [
    {
     "name": "stdout",
     "output_type": "stream",
     "text": [
      "[['12', 9.337837837837839], ['08', 10.142857142857142], ['03', 7.672727272727273], ['15', 38.27350427350427], ['09', 5.586956521739131], ['22', 6.680555555555555], ['10', 13.233333333333333], ['20', 21.28395061728395], ['06', 8.844444444444445], ['16', 16.798165137614678], ['04', 7.083333333333333], ['21', 15.9], ['18', 13.1], ['01', 11.737704918032787], ['11', 10.898305084745763], ['17', 11.356435643564357], ['00', 8.160714285714286], ['13', 14.906976744186046], ['07', 7.685714285714286], ['23', 7.884057971014493], ['14', 13.13888888888889], ['02', 23.45762711864407], ['05', 10.48936170212766], ['19', 10.72972972972973]]\n"
     ]
    }
   ],
   "source": [
    "avg_by_hour = []\n",
    "for i in comments_by_hour:\n",
    "    counts = counts_by_hour[i]\n",
    "    comments = comments_by_hour[i]\n",
    "    average = comments/counts\n",
    "    avg_by_hour.append([i, average])\n",
    "\n",
    "print(avg_by_hour)"
   ]
  },
  {
   "cell_type": "markdown",
   "metadata": {},
   "source": [
    "We can clean the data to make it easier to understand."
   ]
  },
  {
   "cell_type": "code",
   "execution_count": 8,
   "metadata": {
    "collapsed": false,
    "scrolled": true
   },
   "outputs": [
    {
     "name": "stdout",
     "output_type": "stream",
     "text": [
      "Top 5 Hours for Ask Posts Comments\n",
      "15:00: 38.27 average comments per post\n",
      "02:00: 23.46 average comments per post\n",
      "20:00: 21.28 average comments per post\n",
      "16:00: 16.80 average comments per post\n",
      "21:00: 15.90 average comments per post\n"
     ]
    }
   ],
   "source": [
    "swap_avg_by_hour = []\n",
    "\n",
    "for i in avg_by_hour: # Swap to order by average comments\n",
    "    swap_avg_by_hour.append([i[1],i[0]])\n",
    "sorted_swap = sorted(swap_avg_by_hour, reverse=True)\n",
    "\n",
    "print(\"Top 5 Hours for Ask Posts Comments\")\n",
    "string = \"{hour}: {average:.2f} average comments per post\"\n",
    "for i in sorted_swap[:5]:\n",
    "    average = i[0]\n",
    "    hour = i[1]\n",
    "    hour = dt.datetime.strptime(hour,\"%H\")\n",
    "    hour = dt.datetime.strftime(hour,\"%H:%M\")\n",
    "    print(string.format(string, hour=hour, average=average))"
   ]
  },
  {
   "cell_type": "markdown",
   "metadata": {},
   "source": [
    "We can see from the top shown above, that creating a post between 15:00 and 16:59 will provide an average of +16 comments, up to 38. Creating the post at nigth, between 20:00 and 21:59 will result in 15 to 21 comments per post.\n",
    "\n",
    "There is an indication that Hacker News also fits nigth fans, because creating a post at 2 AM will provide an average of 23 comments."
   ]
  }
 ],
 "metadata": {
  "kernelspec": {
   "display_name": "Python 3",
   "language": "python",
   "name": "python3"
  }
 },
 "nbformat": 4,
 "nbformat_minor": 2
}